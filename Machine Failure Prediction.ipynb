{
 "cells": [
  {
   "cell_type": "markdown",
   "metadata": {
    "id": "nqQ7_PcqPwq0"
   },
   "source": [
    "# Data Loading and visualization"
   ]
  },
  {
   "cell_type": "code",
   "execution_count": null,
   "metadata": {},
   "outputs": [],
   "source": [
    "CSV_path = 'ai4i2020.csv'"
   ]
  },
  {
   "cell_type": "markdown",
   "metadata": {
    "id": "W-xft_-UNzMz"
   },
   "source": [
    "## Pre-Processing"
   ]
  },
  {
   "cell_type": "code",
   "execution_count": null,
   "metadata": {
    "id": "RVOy_iv8RdbS"
   },
   "outputs": [],
   "source": [
    "def plot_data_bar(Y_train, Y_test):\n",
    "  import matplotlib.pyplot as plt\n",
    "  data = {'Non-Failure':'maroon', 'Failure':'red'}         \n",
    "  labels = list(data.keys())\n",
    "  handles = [plt.Rectangle((0,0),1,1, color=data[label]) for label in labels]\n",
    "  values_train = list(Y_train.value_counts())\n",
    "  values_test = list(Y_test.value_counts())\n",
    "\n",
    "  plt.rcParams['figure.figsize'] = 8, 8\n",
    "\n",
    "  # plot training and validation history\n",
    "  fig, (ax1, ax2) = plt.subplots(1, 2)\n",
    "  ax1.bar(labels, values_train, color = list(data.values()), width = 0.9)\n",
    "  ax1.set_xlabel(\"Training data Machine Status\")\n",
    "  ax1.set_ylabel(\"No. of training samples\")\n",
    "  ax1.set_title(\"Training Data\")\n",
    "\n",
    "  ax2.bar(labels, values_test, color = list(data.values()), width = 0.9)\n",
    "  ax2.set_xlabel(\"Test data Machine Status\")\n",
    "  ax2.set_ylabel(\"No. of test samples\")\n",
    "  ax2.set_title(\"Test Data\")\n",
    "\n",
    "  count_class_0, count_class_1 = Y_train.value_counts()\n",
    "  ax1.legend(handles, values_train, loc='best')\n",
    "\n",
    "  count_class_0, count_class_1 = Y_test.value_counts()\n",
    "  ax2.legend(handles, values_test, loc='best')\n",
    "\n",
    "  plt.tight_layout()\n",
    "  return plt"
   ]
  },
  {
   "cell_type": "code",
   "execution_count": null,
   "metadata": {
    "colab": {
     "base_uri": "https://localhost:8080/"
    },
    "id": "tF28CE1mEOrb",
    "outputId": "5fd5f730-c2e8-471b-8cf2-0c666687ad74"
   },
   "outputs": [],
   "source": [
    "import pandas as pd\n",
    "import numpy as np\n",
    "\n",
    "df_data = pd.read_csv(CSV_path)\n",
    "df_data.sample(frac=0.0001, replace=True, random_state=1)"
   ]
  },
  {
   "cell_type": "code",
   "execution_count": null,
   "metadata": {
    "colab": {
     "base_uri": "https://localhost:8080/"
    },
    "id": "E53HKVrpRBV0",
    "outputId": "d969dc72-fe3f-4d7e-a413-ca2f2443d2b8"
   },
   "outputs": [],
   "source": [
    "df_data.nunique()"
   ]
  },
  {
   "cell_type": "code",
   "execution_count": null,
   "metadata": {
    "colab": {
     "base_uri": "https://localhost:8080/"
    },
    "id": "Kvr0I2Tofpvv",
    "outputId": "4cb4a803-6cca-499d-db78-b06178c1f924"
   },
   "outputs": [],
   "source": [
    "df_data = df_data.iloc[:, 2:-1]\n",
    "df_data.sample(frac=0.0001, replace=True, random_state=1)"
   ]
  },
  {
   "cell_type": "code",
   "execution_count": null,
   "metadata": {
    "colab": {
     "base_uri": "https://localhost:8080/"
    },
    "id": "RLYDGPn5tkCZ",
    "outputId": "46166dee-225a-4c32-c74a-8daf968159b6"
   },
   "outputs": [],
   "source": [
    "df_data.iloc[:, -5:-4]"
   ]
  },
  {
   "cell_type": "code",
   "execution_count": null,
   "metadata": {
    "colab": {
     "base_uri": "https://localhost:8080/"
    },
    "id": "Kqzw0Royd2nv",
    "outputId": "b112680c-c308-4e45-b391-f943e468db57"
   },
   "outputs": [],
   "source": [
    "from sklearn.preprocessing import MinMaxScaler\n",
    "from sklearn.preprocessing import StandardScaler\n",
    "\n",
    "df_data = df_data.reset_index(drop=True)\n",
    "\n",
    "#One Hote Encoding for machine 'Type'\n",
    "type_cols_scaled = pd.get_dummies(df_data['Type'])\n",
    "type_cols_scaled.columns = ['High', 'Low', 'Medium']\n",
    "\n",
    "#scaling\n",
    "scaler = StandardScaler()\n",
    "num_cols = df_data.iloc[:, 1:-5]\n",
    "nums_cols = scaler.fit_transform(num_cols)\n",
    "num_cols_scaled = pd.DataFrame(nums_cols)\n",
    "num_cols_scaled.columns = df_data.columns[1:-5]\n",
    "\n",
    "# concate them in a new dataframe\n",
    "\n",
    "df_data_scaled = pd.concat([type_cols_scaled, num_cols_scaled, df_data.iloc[:, -5:-4]], axis = 1)\n",
    "\n",
    "df_data_scaled.sample(frac=0.0001, replace=True, random_state=1)"
   ]
  },
  {
   "cell_type": "code",
   "execution_count": null,
   "metadata": {
    "colab": {
     "base_uri": "https://localhost:8080/"
    },
    "id": "yzsz5nmfRjJ5",
    "outputId": "a4ef3c8d-e52f-47ae-a754-f57f0ac33d64"
   },
   "outputs": [],
   "source": [
    "import numpy as np\n",
    "import matplotlib.pyplot as plt \n",
    "\n",
    "\n",
    "#Extracting all the input and output data\n",
    "\n",
    "x_all = df_data_scaled.iloc[:,:-1]\n",
    "y_all = df_data_scaled['Machine failure']\n",
    "\n",
    "data = {'Non-Failure':'maroon', 'Failure':'red'}         \n",
    "labels = list(data.keys())\n",
    "handles = [plt.Rectangle((0,0),1,1, color=data[label]) for label in labels]\n",
    "values = list(y_all.value_counts())\n",
    "\n",
    "fig = plt.figure(figsize = (5, 8))\n",
    " \n",
    "# creating the bar plot\n",
    "plt.bar(labels, values, color = list(data.values()), width = 0.9)\n",
    "\n",
    "plt.xlabel(\"Machine Status\")\n",
    "plt.ylabel(\"No. of samples\")\n",
    "plt.legend(handles, values)\n",
    "plt.title(\"Total data present\")\n",
    "plt.show()"
   ]
  },
  {
   "cell_type": "code",
   "execution_count": null,
   "metadata": {
    "colab": {
     "base_uri": "https://localhost:8080/"
    },
    "id": "hjag90VQcuw-",
    "outputId": "f06c3d01-5fa7-46e7-97a3-7e6bac736f55"
   },
   "outputs": [],
   "source": [
    "import numpy as np\n",
    "import matplotlib.pyplot as plt \n",
    "\n",
    "\n",
    "#Extracting all the input and output data\n",
    "\n",
    "x_all = df_data_scaled.iloc[:,:-1]\n",
    "y_all = df_data_scaled['Machine failure']\n",
    "\n",
    "data = {'Non-Failure':'maroon', 'Failure':'red'}         \n",
    "labels = list(data.keys())\n",
    "handles = [plt.Rectangle((0,0),1,1, color=data[label]) for label in labels]\n",
    "values = list(y_all.value_counts())\n",
    "\n",
    "plt.rcParams[\"figure.figsize\"] = [7.50, 7.50]\n",
    "plt.rcParams[\"figure.autolayout\"] = True\n",
    "\n",
    "width = 0.35\n",
    "fig, ax = plt.subplots()\n",
    "\n",
    "pps = ax.bar(labels, values, color = list(data.values()), width = 0.9)\n",
    "\n",
    "for p in pps:\n",
    "   height = p.get_height()\n",
    "   plt.annotate( \"{}%\".format(height/100),(p.get_x() + p.get_width()/2, height+.05),ha=\"center\",va=\"bottom\",fontsize=15)\n",
    "\n",
    "ax.yaxis.set_visible(False)\n",
    "plt.show()"
   ]
  },
  {
   "cell_type": "code",
   "execution_count": null,
   "metadata": {
    "id": "BBtA9TKipUT3"
   },
   "outputs": [],
   "source": [
    "from sklearn.model_selection import train_test_split\n",
    "\n",
    "# Split the data in training and validation dataset\n",
    "X_train, X_test, Y_train, Y_test = train_test_split(x_all,y_all, train_size=0.8, random_state=15, stratify=y_all)"
   ]
  },
  {
   "cell_type": "code",
   "execution_count": null,
   "metadata": {
    "colab": {
     "base_uri": "https://localhost:8080/"
    },
    "id": "Xx2awqO9pjyg",
    "outputId": "91fad93e-8a3b-42d7-c7bc-0b54e95b840f"
   },
   "outputs": [],
   "source": [
    "Y_test.value_counts()"
   ]
  },
  {
   "cell_type": "code",
   "execution_count": null,
   "metadata": {
    "colab": {
     "base_uri": "https://localhost:8080/"
    },
    "id": "MU5IpizsR6mb",
    "outputId": "98a33ab4-178e-4d67-adcc-4be546c7356e"
   },
   "outputs": [],
   "source": [
    "plot_data_bar(Y_train, Y_test)"
   ]
  },
  {
   "cell_type": "markdown",
   "metadata": {
    "id": "G_3Y_6t6mMQC"
   },
   "source": [
    "## Visualizing the imbalanced data"
   ]
  },
  {
   "cell_type": "code",
   "execution_count": null,
   "metadata": {
    "id": "_VJyTyX0mRmZ"
   },
   "outputs": [],
   "source": [
    "count_class_0, count_class_1 = y_all.value_counts()\n",
    "\n",
    "df_class_0 = df_data_scaled[df_data_scaled['Machine failure'] == 0]\n",
    "df_class_1 = df_data_scaled[df_data_scaled['Machine failure'] == 1]"
   ]
  },
  {
   "cell_type": "code",
   "execution_count": null,
   "metadata": {
    "colab": {
     "base_uri": "https://localhost:8080/"
    },
    "id": "efuB3483m78i",
    "outputId": "ffd43b0f-45d8-461d-d9dd-361df43d9044"
   },
   "outputs": [],
   "source": [
    "initial_bias = np.log([count_class_1/count_class_0])"
   ]
  },
  {
   "cell_type": "code",
   "execution_count": null,
   "metadata": {
    "colab": {
     "base_uri": "https://localhost:8080/"
    },
    "id": "FbBExIhVmVhp",
    "outputId": "8b9d6a14-35d6-4b47-defe-0b5c75c54a1f"
   },
   "outputs": [],
   "source": [
    "import seaborn as sns\n",
    "import matplotlib.pyplot as plt\n",
    "sns.jointplot(x=df_class_1['Process temperature [K]'], y=df_class_1['Rotational speed [rpm]'],\n",
    "              kind='hex', xlim=(-5,5), ylim=(-5,5))\n",
    "plt.suptitle(\"Positive distribution\")\n",
    "\n",
    "sns.jointplot(x=df_class_0['Process temperature [K]'], y=df_class_0['Rotational speed [rpm]'],\n",
    "              kind='hex', xlim=(-5,5), ylim=(-5,5))\n",
    "_ = plt.suptitle(\"Negative distribution\")"
   ]
  },
  {
   "cell_type": "markdown",
   "metadata": {
    "id": "HnCPrR4JZSH1"
   },
   "source": [
    "## Under Sampling"
   ]
  },
  {
   "cell_type": "code",
   "execution_count": null,
   "metadata": {
    "colab": {
     "base_uri": "https://localhost:8080/"
    },
    "id": "m5Izbu64XDJQ",
    "outputId": "87388160-3118-42e4-9ab9-80fcd589b8f1"
   },
   "outputs": [],
   "source": [
    "from sklearn.model_selection import train_test_split\n",
    "\n",
    "# Split the data in training and validation dataset\n",
    "X_train, X_test, Y_train, Y_test = train_test_split(x_all,y_all, train_size=0.8, random_state=13, stratify=y_all)\n",
    "\n",
    "#Checking data balance\n",
    "\n",
    "count_class_0, count_class_1 = Y_train.value_counts()"
   ]
  },
  {
   "cell_type": "code",
   "execution_count": null,
   "metadata": {
    "colab": {
     "base_uri": "https://localhost:8080/"
    },
    "id": "60ytOK8NX2Ef",
    "outputId": "868e9d4a-65ca-49b4-ca97-067c991afb1e"
   },
   "outputs": [],
   "source": [
    "#Undersampling to provide balanced training data\n",
    "\n",
    "train_data = pd.concat([X_train, Y_train], axis=1)\n",
    "\n",
    "df_class_0 = train_data[train_data['Machine failure'] == 0]\n",
    "df_class_1 = train_data[train_data['Machine failure'] == 1]\n",
    "\n",
    "df_class_0 = df_class_0.sample(count_class_1)\n",
    "\n",
    "print(df_class_0.shape)\n",
    "print(df_class_1.shape)\n",
    "\n",
    "df_data_under = pd.concat([df_class_0, df_class_1])\n",
    "\n",
    "print(df_data_under.shape)\n",
    "\n",
    "df_data_under.sample(frac=0.01, replace=True, random_state=1)"
   ]
  },
  {
   "cell_type": "code",
   "execution_count": null,
   "metadata": {
    "colab": {
     "base_uri": "https://localhost:8080/"
    },
    "id": "12Ns-uNaGgdc",
    "outputId": "a2e1eeb6-4266-413f-b50a-a9d76e5e52c4"
   },
   "outputs": [],
   "source": [
    "#Extracting Undersampled Data\n",
    "\n",
    "X_train = df_data_under.iloc[:,:-1]\n",
    "Y_train = df_data_under['Machine failure']\n",
    "\n",
    "print(X_train.shape)\n",
    "print(Y_train.shape)\n",
    "print(Y_train.value_counts())"
   ]
  },
  {
   "cell_type": "code",
   "execution_count": null,
   "metadata": {
    "colab": {
     "base_uri": "https://localhost:8080/"
    },
    "id": "fqgAUhaKN4WD",
    "outputId": "01fd0e29-1bb4-4a06-9a3c-1cb30ced3c7e"
   },
   "outputs": [],
   "source": [
    "plot_data_bar(Y_train, Y_test)"
   ]
  },
  {
   "cell_type": "markdown",
   "metadata": {
    "id": "fURxU84QZakJ"
   },
   "source": [
    "## Over Sampling"
   ]
  },
  {
   "cell_type": "code",
   "execution_count": null,
   "metadata": {
    "colab": {
     "base_uri": "https://localhost:8080/"
    },
    "id": "YlMdJ8DNZfQK",
    "outputId": "b0917026-56c8-4b22-c87d-164c972a8cb4"
   },
   "outputs": [],
   "source": [
    "from sklearn.model_selection import train_test_split\n",
    "\n",
    "# Split the data in training and validation dataset\n",
    "X_train, X_test, Y_train, Y_test = train_test_split(x_all,y_all, train_size=0.8, random_state=13, stratify=y_all)\n",
    "\n",
    "#Checking data balance\n",
    "\n",
    "count_class_0, count_class_1 = Y_train.value_counts()\n",
    "count_class_0, count_class_1"
   ]
  },
  {
   "cell_type": "code",
   "execution_count": null,
   "metadata": {
    "colab": {
     "base_uri": "https://localhost:8080/"
    },
    "id": "fXWAu5GdX42Z",
    "outputId": "9da96393-172e-4d23-bf49-b2198179e9fe"
   },
   "outputs": [],
   "source": [
    "#Oversampling to provide balanced training data\n",
    "\n",
    "train_data = pd.concat([X_train, Y_train], axis=1)\n",
    "\n",
    "df_class_0 = train_data[train_data['Machine failure'] == 0]\n",
    "df_class_1 = train_data[train_data['Machine failure'] == 1]\n",
    "\n",
    "df_class_1 = df_class_1.sample(count_class_0, replace = True)\n",
    "\n",
    "print(df_class_0.shape)\n",
    "print(df_class_1.shape)\n",
    "\n",
    "df_data_over = pd.concat([df_class_0, df_class_1])\n",
    "\n",
    "print(df_data_over.shape)"
   ]
  },
  {
   "cell_type": "code",
   "execution_count": null,
   "metadata": {
    "cellView": "code",
    "colab": {
     "base_uri": "https://localhost:8080/"
    },
    "id": "k1lhrSq3YYJB",
    "outputId": "ba0bb11b-c110-42d7-e1a1-5142ed565987"
   },
   "outputs": [],
   "source": [
    "#Extracting Oversampled Data\n",
    "\n",
    "X_train = df_data_over.iloc[:,:-1]\n",
    "Y_train = df_data_over['Machine failure']\n",
    "\n",
    "print(X_train.shape)\n",
    "print(Y_train.shape)\n",
    "print(Y_train.value_counts())"
   ]
  },
  {
   "cell_type": "code",
   "execution_count": null,
   "metadata": {
    "colab": {
     "base_uri": "https://localhost:8080/"
    },
    "id": "osYU3xVRV2ta",
    "outputId": "9bf1015a-deec-49bf-8253-aab5931eb309"
   },
   "outputs": [],
   "source": [
    "plot_data_bar(Y_train, Y_test)"
   ]
  },
  {
   "cell_type": "markdown",
   "metadata": {
    "id": "J4z60V5wxt-d"
   },
   "source": [
    "## GAN"
   ]
  },
  {
   "cell_type": "markdown",
   "metadata": {
    "id": "YPFqeRN_Z1T6"
   },
   "source": [
    "### GAN Model Defintion"
   ]
  },
  {
   "cell_type": "code",
   "execution_count": null,
   "metadata": {
    "colab": {
     "base_uri": "https://localhost:8080/",
     "height": 1000
    },
    "id": "xGTtqBNDxxNd",
    "outputId": "642f7eb7-020b-40d5-840e-0dd90f5c5313"
   },
   "outputs": [],
   "source": [
    "from tensorflow.keras.datasets import mnist\n",
    "import visualkeras\n",
    "from collections import defaultdict\n",
    "from PIL import ImageFont\n",
    "import numpy as np\n",
    "import matplotlib.pyplot as plt\n",
    "from tensorflow.keras.layers import Dense, Input, Flatten, Conv2D, MaxPool2D, LeakyReLU, Reshape, Dropout\n",
    "from tensorflow.keras.models import Model, Sequential\n",
    "from tensorflow.keras.optimizers import Adam\n",
    "from tensorflow.keras import utils\n",
    "\n",
    "def discriminator_dense():\n",
    "    inp = Input(shape=8)\n",
    "    x = Dense(1024, activation=LeakyReLU(alpha=0.2))(inp)\n",
    "    x = Dropout(0.4)(x)\n",
    "    x = Dense(512, activation=LeakyReLU(alpha=0.2))(x)\n",
    "    x = Dropout(0.4)(x)\n",
    "    x = Dense(512, activation=LeakyReLU(alpha=0.2))(x)\n",
    "    \n",
    "    op = Dense(1, activation=\"sigmoid\")(x)\n",
    "    \n",
    "    model = Model(inp, op)\n",
    "    model.compile(\n",
    "    optimizer = Adam(learning_rate=0.0002, beta_1=0.5),\n",
    "    loss=\"binary_crossentropy\")\n",
    "    \n",
    "    return model\n",
    "  \n",
    "discrim  = discriminator_dense()\n",
    "discrim .summary()\n",
    "\n",
    "utils.plot_model(discrim , show_shapes=True, to_file=\"model_discriminator.png\")"
   ]
  },
  {
   "cell_type": "code",
   "execution_count": null,
   "metadata": {
    "colab": {
     "base_uri": "https://localhost:8080/",
     "height": 1000
    },
    "id": "SrdWXDgm0sLG",
    "outputId": "fc5665da-f0a5-4f73-d91d-b67580fa830b"
   },
   "outputs": [],
   "source": [
    "def generator(n):\n",
    "    inp = Input(shape=(n))\n",
    "    \n",
    "    x = Dense(256, activation=LeakyReLU(alpha=0.2))(inp)\n",
    "    x = Dense(512, activation=LeakyReLU(alpha=0.2))(x)\n",
    "    x = Dense(1024, activation=LeakyReLU(alpha=0.2))(x)\n",
    "    x = Dense(256, activation=LeakyReLU(alpha=0.2))(x)\n",
    "    x = Dense(64, activation=LeakyReLU(alpha=0.2))(x)\n",
    "    op = Dense(8, activation='tanh')(x)\n",
    "    \n",
    "    return Model(inp, op)\n",
    "\n",
    "gener = generator(100)\n",
    "gener.summary()\n",
    "\n",
    "utils.plot_model(gener, show_shapes=True, to_file=\"model_generator.png\")"
   ]
  },
  {
   "cell_type": "code",
   "execution_count": null,
   "metadata": {
    "colab": {
     "base_uri": "https://localhost:8080/",
     "height": 572
    },
    "id": "tq5dA19o0vy9",
    "outputId": "9af2ef18-15e2-472b-a26d-22928cfd4670"
   },
   "outputs": [],
   "source": [
    "def gan(discrim, gener):\n",
    "    discrim.trainable = False\n",
    "    \n",
    "    model = Sequential()\n",
    "    \n",
    "    model.add(gener)\n",
    "    model.add(discrim)\n",
    "    \n",
    "    model.compile(\n",
    "    optimizer=Adam(lr=0.0002, beta_1=0.5),\n",
    "    loss=\"binary_crossentropy\")\n",
    "    \n",
    "    return model\n",
    "\n",
    "gan_model = gan(discrim, gener)\n",
    "gan_model .summary()\n",
    "\n",
    "utils.plot_model(gan_model , show_shapes=True, to_file=\"model_discriminator.png\")"
   ]
  },
  {
   "cell_type": "markdown",
   "metadata": {
    "id": "Dt-FgfJFZ9w7"
   },
   "source": [
    "### GAN Model Training"
   ]
  },
  {
   "cell_type": "code",
   "execution_count": null,
   "metadata": {
    "colab": {
     "base_uri": "https://localhost:8080/"
    },
    "id": "IoZVmbYnzFwd",
    "outputId": "716e9260-02a2-48ab-cd83-bf26f462f8c7"
   },
   "outputs": [],
   "source": [
    "df_class_0 = df_data_scaled[df_data_scaled['Machine failure'] == 0]\n",
    "df_class_1 = df_data_scaled[df_data_scaled['Machine failure'] == 1]"
   ]
  },
  {
   "cell_type": "code",
   "execution_count": null,
   "metadata": {
    "id": "MSBrJEDi1Xye"
   },
   "outputs": [],
   "source": [
    "from tqdm import tqdm\n",
    "\n",
    "df_class1 = df_class_1.iloc[:,:-1].to_numpy()\n",
    "epochs = 3000\n",
    "batch_size = 32\n",
    "half_batch = batch_size//2\n",
    "n = 100\n",
    "losses = []\n",
    "data_len = len(df_class1)"
   ]
  },
  {
   "cell_type": "code",
   "execution_count": null,
   "metadata": {
    "colab": {
     "base_uri": "https://localhost:8080/"
    },
    "id": "fDSF2fVj1a6N",
    "outputId": "70119fe1-72d6-4878-89a9-be63cfbedc8f"
   },
   "outputs": [],
   "source": [
    "import time\n",
    "start = time.time()\n",
    "for i in range(epochs):\n",
    "    print(\"Epoch: \", i)\n",
    "    for j in tqdm(range(data_len//batch_size)):\n",
    "        \n",
    "        xreal, yreal = df_class1[np.random.randint(0, data_len, half_batch)].reshape(half_batch, 8), np.ones(half_batch).reshape(half_batch, 1)\n",
    "\n",
    "        xfake, yfake = gener.predict(np.random.randn(half_batch, n)), np.zeros(half_batch).reshape(half_batch, 1)\n",
    "        \n",
    "        xfinal, yfinal = np.vstack((xreal, xfake)), np.vstack((yreal, yfake))\n",
    "        \n",
    "        dloss = discrim.train_on_batch(xfinal, yfinal)\n",
    "        \n",
    "        gloss = gan_model.train_on_batch(np.random.randn(batch_size, n), np.ones(batch_size).reshape(batch_size, 1))\n",
    "        \n",
    "        losses.append([dloss, gloss])\n",
    "    \n",
    "    print(\"losess --> \", dloss, \"  \", gloss)\n",
    "end = time.time()\n",
    "print('Time taken: ', end-start)"
   ]
  },
  {
   "cell_type": "code",
   "execution_count": null,
   "metadata": {
    "colab": {
     "base_uri": "https://localhost:8080/"
    },
    "id": "BWVguOFi99sd",
    "outputId": "bcd21573-e527-45cf-e674-00b2761f5692"
   },
   "outputs": [],
   "source": [
    "gan_model.save('my_gan_model.h5')\n",
    "\n",
    "gener.save('my_gan_generator_model.h5')\n",
    "\n",
    "discrim.save('my_gan_discriminator_model.h5')"
   ]
  },
  {
   "cell_type": "markdown",
   "metadata": {
    "id": "RdkxoWW8aFg6"
   },
   "source": [
    "### GAN Model application"
   ]
  },
  {
   "cell_type": "code",
   "execution_count": null,
   "metadata": {
    "colab": {
     "base_uri": "https://localhost:8080/"
    },
    "id": "cuWlmSFfFc-N",
    "outputId": "a593d762-5917-49e7-dd2a-4c4129be803e"
   },
   "outputs": [],
   "source": [
    "import tensorflow as tf\n",
    "\n",
    "#load the model\n",
    "\n",
    "gan_model = tf.keras.models.load_model('my_gan_model.h5')\n",
    "gener = tf.keras.models.load_model('my_gan_generator_model.h5')\n",
    "discrim = tf.keras.models.load_model('my_gan_discriminator_model.h5')"
   ]
  },
  {
   "cell_type": "code",
   "execution_count": null,
   "metadata": {
    "id": "01qALC6csmxA"
   },
   "outputs": [],
   "source": [
    "from sklearn.model_selection import train_test_split\n",
    "\n",
    "# Split the data in training and validation dataset\n",
    "X_train, X_test, Y_train, Y_test = train_test_split(x_all,y_all, train_size=0.8, random_state=13, stratify=y_all)"
   ]
  },
  {
   "cell_type": "code",
   "execution_count": null,
   "metadata": {
    "colab": {
     "base_uri": "https://localhost:8080/"
    },
    "id": "mF0nAm9Dsplw",
    "outputId": "db533490-d023-44f8-8e93-0ad897f43a22"
   },
   "outputs": [],
   "source": [
    "train_data = pd.concat([X_train, Y_train], axis=1)\n",
    "\n",
    "df_class_0 = train_data[train_data['Machine failure'] == 0]\n",
    "df_class_1 = train_data[train_data['Machine failure'] == 1]\n",
    "\n",
    "fake_data_len = len(df_class_0)//2 - len(df_class_1)"
   ]
  },
  {
   "cell_type": "code",
   "execution_count": null,
   "metadata": {
    "colab": {
     "base_uri": "https://localhost:8080/"
    },
    "id": "3I63IELLsw6k",
    "outputId": "a355c8bc-1124-46d7-f3d4-11e5c41de72d"
   },
   "outputs": [],
   "source": [
    "from tqdm import tqdm\n",
    "\n",
    "x_fake = []\n",
    "y_fake = []\n",
    "batch_size = 16\n",
    "n = 100\n",
    "for i in tqdm(range(fake_data_len//batch_size)):\n",
    "  x_fake.append(gener.predict(np.random.randn(batch_size, n)))\n",
    "  y_fake.append(np.ones(batch_size).reshape(batch_size, 1))\n",
    "\n",
    "newx = np.array(x_fake)\n",
    "newy = np.array(y_fake)\n",
    "\n",
    "x_fake_new = newx.reshape(len(newx)*len(newx[0]), 8)\n",
    "y_fake_new = newy.reshape(len(newy)*len(newy[0]), 1)"
   ]
  },
  {
   "cell_type": "code",
   "execution_count": null,
   "metadata": {
    "id": "EG6dUf6-s1gz"
   },
   "outputs": [],
   "source": [
    "x_gan_new = pd.DataFrame(x_fake_new)\n",
    "\n",
    "y_gan_new = pd.DataFrame(y_fake_new)\n",
    "\n",
    "# concate them in a new dataframe\n",
    "\n",
    "x_gan_new.columns = X_train.columns\n",
    "\n",
    "X_train = pd.concat([X_train, x_gan_new], axis = 0, ignore_index=True)\n",
    "Y_train = pd.concat([Y_train, y_gan_new], axis = 0)"
   ]
  },
  {
   "cell_type": "code",
   "execution_count": null,
   "metadata": {
    "colab": {
     "base_uri": "https://localhost:8080/",
     "height": 602
    },
    "id": "4zn_V6tbs3AR",
    "outputId": "1f62dbce-96aa-4c5a-ec9c-2dae1ceb06f0"
   },
   "outputs": [],
   "source": [
    "plot_data_bar(Y_train, Y_test)"
   ]
  },
  {
   "cell_type": "markdown",
   "metadata": {
    "id": "QpGrW6I5FbN0"
   },
   "source": [
    "## SMOTE"
   ]
  },
  {
   "cell_type": "code",
   "execution_count": null,
   "metadata": {
    "id": "j3_oDf4EF-cX"
   },
   "outputs": [],
   "source": [
    "from sklearn.model_selection import train_test_split\n",
    "\n",
    "# Split the data in training and validation dataset\n",
    "X_train, X_test, Y_train, Y_test = train_test_split(x_all,y_all, train_size=0.8, random_state=13, stratify=y_all)"
   ]
  },
  {
   "cell_type": "code",
   "execution_count": null,
   "metadata": {
    "colab": {
     "base_uri": "https://localhost:8080/"
    },
    "id": "UiP2q6d_FdhU",
    "outputId": "ca629a17-ff77-4fdd-fe0c-bd27be372d9e"
   },
   "outputs": [],
   "source": [
    "from imblearn.over_sampling import SMOTE\n",
    "\n",
    "smote = SMOTE(sampling_strategy='minority')\n",
    "X_train, Y_train = smote.fit_resample(X_train, Y_train)\n",
    "\n",
    "Y_train.value_counts()"
   ]
  },
  {
   "cell_type": "code",
   "execution_count": null,
   "metadata": {
    "colab": {
     "base_uri": "https://localhost:8080/",
     "height": 602
    },
    "id": "0Rvj-JN-WTfy",
    "outputId": "b2b46d56-eb93-4ffa-d98a-51df8aa064de"
   },
   "outputs": [],
   "source": [
    "plot_data_bar(Y_train, Y_test)"
   ]
  },
  {
   "cell_type": "markdown",
   "metadata": {
    "id": "Ac5-1ox2WQal"
   },
   "source": [
    "# Linear SVM"
   ]
  },
  {
   "cell_type": "markdown",
   "metadata": {
    "id": "mZmYJLrAgqdx"
   },
   "source": [
    "## SVM Model"
   ]
  },
  {
   "cell_type": "code",
   "execution_count": null,
   "metadata": {
    "colab": {
     "base_uri": "https://localhost:8080/"
    },
    "id": "BRvf6g55J7Ap",
    "outputId": "d257d186-13ee-49b3-db23-f910d66cf9eb"
   },
   "outputs": [],
   "source": [
    "from sklearn.svm import LinearSVC\n",
    "from sklearn.preprocessing import LabelEncoder\n",
    "import time\n",
    "\n",
    "\n",
    "model = LinearSVC()\n",
    "print('Training Support Vector Machine with {} data'.format(len(X_train)))\n",
    "start = time.time()\n",
    "model.fit(X_train,Y_train)\n",
    "end = time.time()\n",
    "print(\"Training Over in: \", end-start)"
   ]
  },
  {
   "cell_type": "markdown",
   "metadata": {
    "id": "uOid9bJjWvOr"
   },
   "source": [
    "## Linear SVM Model Statistical Analysis"
   ]
  },
  {
   "cell_type": "code",
   "execution_count": null,
   "metadata": {
    "id": "XRfNhuuQRsFz"
   },
   "outputs": [],
   "source": [
    "from sklearn.metrics import classification_report, confusion_matrix\n",
    "import seaborn as sns\n",
    "import matplotlib.pyplot as plt\n",
    "\n",
    "def plot_confusion_matrix(testLabels,testPred,title):\n",
    "    cm = confusion_matrix(testLabels,testPred)\n",
    "    cm_df = pd.DataFrame(cm,\n",
    "                         index = ['Non-Failure','Failure'], \n",
    "                         columns = ['Non-Failure','Failure'])\n",
    "    sns.heatmap(cm_df, annot=True, fmt=\"d\", cmap = \"Reds\")\n",
    "    plt.title(title)\n",
    "    plt.ylabel('Actual Values')\n",
    "    plt.xlabel('Predicted Values')\n",
    "    plt.savefig('Confusion_Matrix')\n",
    "    plt.show()"
   ]
  },
  {
   "cell_type": "code",
   "execution_count": null,
   "metadata": {
    "colab": {
     "base_uri": "https://localhost:8080/",
     "height": 845
    },
    "id": "KBr0rOaSW-c2",
    "outputId": "d60a34bb-c7d0-4b98-9fd1-cb6592f642b3"
   },
   "outputs": [],
   "source": [
    "from sklearn.metrics import recall_score, f1_score, accuracy_score, precision_score\n",
    "\n",
    "Y_testpred = model.predict(X_test)\n",
    "\n",
    "print(\"Classification Report for Linear SVM model\\n\\n\")\n",
    "print(classification_report(Y_test,Y_testpred))\n",
    "\n",
    "recall = recall_score(Y_test,Y_testpred)\n",
    "precision = precision_score(Y_test,Y_testpred)\n",
    "f1 = f1_score(Y_test,Y_testpred) \n",
    "\n",
    "print('recall:', recall, '\\nprecision:', precision, '\\nf1:',f1)\n",
    "\n",
    "plot_confusion_matrix(Y_test,Y_testpred,\"Confusion Matrix for SVM model\")\n"
   ]
  },
  {
   "cell_type": "markdown",
   "metadata": {
    "id": "edso7wDxgnLZ"
   },
   "source": [
    "# Multi Layer Perceptron (MLP)"
   ]
  },
  {
   "cell_type": "markdown",
   "metadata": {
    "id": "YRlYXGejg3VZ"
   },
   "source": [
    "## MLP Model"
   ]
  },
  {
   "cell_type": "code",
   "execution_count": null,
   "metadata": {
    "colab": {
     "base_uri": "https://localhost:8080/"
    },
    "id": "da1vJVZ2g496",
    "outputId": "d7053d98-a510-4c36-e494-e3638bc72f19"
   },
   "outputs": [],
   "source": [
    "from keras.datasets import mnist\n",
    "import visualkeras\n",
    "import numpy as np\n",
    "import tensorflow as tf\n",
    "import matplotlib.pyplot as plt\n",
    "from tensorflow.keras.layers import Dense, Input, Flatten, Conv2D, MaxPool2D, LeakyReLU, Reshape, Dropout\n",
    "from tensorflow.keras.models import Model, Sequential\n",
    "from tensorflow.keras.optimizers import Adam\n",
    "from tensorflow.keras import utils\n",
    "\n",
    "\n",
    "\n",
    "def mlp_arch():\n",
    "\n",
    "  # set the precision for the network\n",
    "  tf.keras.backend.set_floatx('float64')\n",
    "  \n",
    "  # specify metrics to use\n",
    "  recall = tf.keras.metrics.Recall()\n",
    "  \n",
    "  # precision = tf.keras.metrics.Precision()\n",
    "  fp = tf.keras.metrics.FalsePositives()\n",
    "  \n",
    "  inp = Input(shape=(8,))\n",
    "  x = Dense(64, activation='relu')(inp)\n",
    "  x = Dropout(0.5)(x)\n",
    "  x = Dense(32, activation='relu')(x)\n",
    "  x = Dropout(0.5)(x)\n",
    "  x = Dense(16, activation='relu')(x)\n",
    "  x = Dropout(0.5)(x)\n",
    "  \n",
    "  op = Dense(1, activation=\"sigmoid\")(x)\n",
    "  \n",
    "  model = Model(inp, op)\n",
    "  model.compile(\n",
    "      optimizer = Adam(lr=0.0002, beta_1=0.5),\n",
    "      loss=\"binary_crossentropy\",\n",
    "      metrics=['accuracy', recall, fp])\n",
    "    \n",
    "  return model\n",
    "\n",
    "mlp_model = mlp_arch()\n",
    "mlp_model.summary()\n",
    "\n",
    "utils.plot_model(mlp_model, show_shapes=True, to_file=\"mlp_model.png\")"
   ]
  },
  {
   "cell_type": "markdown",
   "metadata": {
    "id": "dPlHVjp9dKid"
   },
   "source": [
    "## MLP Model Training"
   ]
  },
  {
   "cell_type": "code",
   "execution_count": null,
   "metadata": {
    "id": "BmCvoOigVln1"
   },
   "outputs": [],
   "source": [
    "Y_train_MLP = Y_train.values.reshape(len(Y_train), 1)\n",
    "\n",
    "Y_test_MLP = Y_test.values.reshape(len(Y_test), 1)\n",
    "\n",
    "train_data = (X_train, Y_train_MLP)\n",
    "\n",
    "valid_data = (X_test, Y_test_MLP)"
   ]
  },
  {
   "cell_type": "code",
   "execution_count": null,
   "metadata": {
    "colab": {
     "base_uri": "https://localhost:8080/"
    },
    "id": "E05JFiJ_iA7p",
    "outputId": "2c87e532-a7ce-4e3e-80cf-0a026ac55e82"
   },
   "outputs": [],
   "source": [
    "import time\n",
    "from tensorflow.keras.callbacks import EarlyStopping, ModelCheckpoint\n",
    "from tqdm import tqdm\n",
    "\n",
    "# set early stopping criterian\n",
    "es = EarlyStopping(monitor='val_recall_4', mode='max', \n",
    "                   verbose=1, patience=1500)\n",
    "\n",
    "start = time.time()\n",
    "\n",
    "# train the model\n",
    "history = mlp_model.fit(X_train, Y_train_MLP,\n",
    "                        epochs=3000,\n",
    "                        batch_size=64,\n",
    "                        verbose=0,\n",
    "                        workers=20,\n",
    "                        validation_split=0.1,\n",
    "                        callbacks=[es]\n",
    "                 )\n",
    "\n",
    "end = time.time()\n",
    "\n",
    "print(\"Training Over in: \", end-start)"
   ]
  },
  {
   "cell_type": "code",
   "execution_count": null,
   "metadata": {},
   "outputs": [],
   "source": [
    "mlp_model.save('mlp_gan_model.h5')"
   ]
  },
  {
   "cell_type": "markdown",
   "metadata": {
    "id": "rR5XOLJ5dQQ0"
   },
   "source": [
    "## MLP Model Statistical Analysis"
   ]
  },
  {
   "cell_type": "code",
   "execution_count": null,
   "metadata": {
    "id": "Wou0j-oTJ33U"
   },
   "outputs": [],
   "source": [
    "import tensorflow as tf\n",
    "\n",
    "#load the model trained with GAN\n",
    "\n",
    "mlp_model = tf.keras.models.load_model('mlp_gan_model.h5')"
   ]
  },
  {
   "cell_type": "code",
   "execution_count": null,
   "metadata": {
    "id": "0ACinRtYcofe"
   },
   "outputs": [],
   "source": [
    "from sklearn.metrics import classification_report, confusion_matrix\n",
    "import seaborn as sns\n",
    "import matplotlib.pyplot as plt\n",
    "\n",
    "def plot_confusion_matrix(testLabels,testPred,title):\n",
    "    cm = confusion_matrix(testLabels,testPred)\n",
    "    cm_df = pd.DataFrame(cm,\n",
    "                         index = ['Non-Failure','Failure'], \n",
    "                         columns = ['Non-Failure','Failure'])\n",
    "    sns.heatmap(cm_df, annot=True, fmt=\"d\", cmap = \"Reds\")\n",
    "    plt.title(title)\n",
    "    plt.ylabel('Actual Values')\n",
    "    plt.xlabel('Predicted Values')\n",
    "    plt.savefig('Confusion_Matrix')\n",
    "    plt.show()"
   ]
  },
  {
   "cell_type": "code",
   "execution_count": null,
   "metadata": {
    "colab": {
     "base_uri": "https://localhost:8080/",
     "height": 773
    },
    "id": "cBfOgbHGcs6j",
    "outputId": "3eec9f02-67ac-47f7-e8a2-fbe5237eaafa"
   },
   "outputs": [],
   "source": [
    "from sklearn.metrics import recall_score, f1_score, accuracy_score, precision_score\n",
    "\n",
    "Y_predict = mlp_model.predict(X_test)\n",
    "Y_predict = Y_predict.reshape(len(Y_predict))\n",
    "Y_predict = (Y_predict >= 0.5).astype(\"float\")\n",
    "\n",
    "print(\"Classification Report for MLP model Validation Data\\n\\n\")\n",
    "print(classification_report(Y_test_MLP,Y_predict))\n",
    "\n",
    "recall = recall_score(Y_test_MLP,Y_predict)\n",
    "precision = precision_score(Y_test_MLP,Y_predict)\n",
    "f1 = f1_score(Y_test_MLP,Y_predict) \n",
    "\n",
    "print('recall:', recall, '\\nprecision:', precision, '\\nf1:',f1)\n",
    "\n",
    "plot_confusion_matrix(Y_test,Y_predict,\"Confusion Matrix for MLP model\")"
   ]
  },
  {
   "cell_type": "code",
   "execution_count": null,
   "metadata": {
    "colab": {
     "base_uri": "https://localhost:8080/"
    },
    "id": "jmuJq5laKJQ9",
    "outputId": "6fa9604d-0545-40e4-df8d-61c954fc8e28"
   },
   "outputs": [],
   "source": [
    "mlp_model.evaluate(X_test, Y_test_MLP)"
   ]
  },
  {
   "cell_type": "code",
   "execution_count": null,
   "metadata": {
    "colab": {
     "base_uri": "https://localhost:8080/"
    },
    "id": "4G1A9hXzJRqb",
    "outputId": "8b70729b-2f62-456b-8e99-44590a7bfd45"
   },
   "outputs": [],
   "source": [
    "# evaluate\n",
    "_, _, tr_recall, tr_fp = mlp_model.evaluate(X_train, Y_train_MLP, verbose=0)\n",
    "_, _, test_recall, test_fp = mlp_model.evaluate(X_test, Y_test_MLP, verbose=0)\n",
    "print('Train_recall: %.3f, Test_recall: %.3f' % (tr_recall, test_recall))\n",
    "print('Train_fp: %.3f, Test_fp: %.3f' % (tr_fp, test_fp))"
   ]
  },
  {
   "cell_type": "code",
   "execution_count": null,
   "metadata": {
    "colab": {
     "base_uri": "https://localhost:8080/",
     "height": 729
    },
    "id": "3FUriIvr5JGG",
    "outputId": "99b7b792-dff9-4b18-eb7f-2d4ca6ab5b7b"
   },
   "outputs": [],
   "source": [
    "import matplotlib.pyplot as plt\n",
    "\n",
    "plt.rcParams['figure.figsize'] = 20, 10\n",
    "\n",
    "\n",
    "# plot training and validation history\n",
    "fig, (ax1, ax2) = plt.subplots(2, 1)\n",
    "ax1.plot(history.history['recall_4'], label='train_recall')\n",
    "ax1.plot(history.history['val_recall_4'], label='val_recall')\n",
    "ax2.plot(history.history['false_positives_4'], label='train_fp')\n",
    "ax2.plot(history.history['val_false_positives_4'], label='val_fp')\n",
    "\n",
    "ax2.set_xlim([0, 2500])\n",
    "ax2.set_ylim([0, 100])\n",
    "\n",
    "ax1.legend(loc='upper left')\n",
    "ax2.legend(loc='upper left')\n",
    "\n",
    "plt.tight_layout();"
   ]
  },
  {
   "cell_type": "code",
   "execution_count": null,
   "metadata": {
    "colab": {
     "base_uri": "https://localhost:8080/",
     "height": 606
    },
    "id": "Tfcq-nMxcm3X",
    "outputId": "4b839adf-a72d-4c99-dbf6-200c7fe344fc"
   },
   "outputs": [],
   "source": [
    "# Get training and test loss histories\n",
    "training_loss = history.history['loss']\n",
    "valid_loss = history.history['val_loss']\n",
    "\n",
    "# Create count of the number of epochs\n",
    "epoch_count = range(1, len(training_loss) + 1)\n",
    "\n",
    "# Visualize loss history\n",
    "plt.plot(epoch_count, training_loss, '--')\n",
    "plt.plot(epoch_count, valid_loss, '-')\n",
    "plt.grid()\n",
    "plt.legend(['Training Loss', 'Validation Loss'], loc='upper left')\n",
    "plt.xlabel('Epoch')\n",
    "plt.ylabel('Loss')\n",
    "plt.show();"
   ]
  },
  {
   "cell_type": "code",
   "execution_count": null,
   "metadata": {
    "colab": {
     "base_uri": "https://localhost:8080/",
     "height": 641
    },
    "id": "AxpT_n-GYdxf",
    "outputId": "80db8dfc-8efe-4c73-aeb4-39a1d76dfdfd"
   },
   "outputs": [],
   "source": [
    "from sklearn.metrics import roc_curve\n",
    "from sklearn.metrics import roc_auc_score\n",
    "from matplotlib import pyplot\n",
    "\n",
    "# generate a no skill prediction (majority class)\n",
    "ns_probs = [0 for _ in range(len(Y_test_MLP))]\n",
    "\n",
    "# predict probabilities\n",
    "lr_probs = mlp_model.predict(X_test)\n",
    "\n",
    "# keep probabilities for the positive outcome only\n",
    "#lr_probs = lr_probs[lr_probs>=0.5]\n",
    "\n",
    "# calculate scores\n",
    "ns_auc = roc_auc_score(Y_test_MLP, ns_probs)\n",
    "lr_auc = roc_auc_score(Y_test_MLP, lr_probs)\n",
    "\n",
    "# summarize scores\n",
    "print('No Skill: ROC AUC=%.3f' % (ns_auc))\n",
    "print('MLP: ROC AUC=%.3f' % (lr_auc))\n",
    "\n",
    "# calculate roc curves\n",
    "ns_fpr, ns_tpr, _ = roc_curve(Y_test_MLP, ns_probs)\n",
    "lr_fpr, lr_tpr, _ = roc_curve(Y_test_MLP, lr_probs)\n",
    "\n",
    "# plot the roc curve for the model\n",
    "pyplot.plot(lr_fpr, lr_tpr, marker='.', label='MLP')\n",
    "\n",
    "# axis labels\n",
    "pyplot.xlabel('False Positive Rate')\n",
    "pyplot.ylabel('True Positive Rate')\n",
    "\n",
    "s = 'AUC = ' + str(lr_auc)\n",
    "\n",
    "pyplot.text(0.9, 0, s, bbox=dict(facecolor='blue', alpha=0.5))\n",
    "\n",
    "pyplot.grid()\n",
    "\n",
    "# show the legend\n",
    "pyplot.legend(loc='upper left')\n",
    "# show the plot\n",
    "pyplot.show()"
   ]
  }
 ],
 "metadata": {
  "accelerator": "GPU",
  "colab": {
   "collapsed_sections": [
    "5bSdcyvTAi0M",
    "G_3Y_6t6mMQC",
    "HnCPrR4JZSH1",
    "fURxU84QZakJ",
    "QpGrW6I5FbN0",
    "Ac5-1ox2WQal",
    "edso7wDxgnLZ",
    "YRlYXGejg3VZ"
   ],
   "machine_shape": "hm",
   "provenance": []
  },
  "kernelspec": {
   "display_name": "Python 3 (ipykernel)",
   "language": "python",
   "name": "python3"
  },
  "language_info": {
   "codemirror_mode": {
    "name": "ipython",
    "version": 3
   },
   "file_extension": ".py",
   "mimetype": "text/x-python",
   "name": "python",
   "nbconvert_exporter": "python",
   "pygments_lexer": "ipython3",
   "version": "3.9.7"
  }
 },
 "nbformat": 4,
 "nbformat_minor": 1
}
